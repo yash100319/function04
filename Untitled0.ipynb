{
  "nbformat": 4,
  "nbformat_minor": 0,
  "metadata": {
    "colab": {
      "provenance": []
    },
    "kernelspec": {
      "name": "python3",
      "display_name": "Python 3"
    },
    "language_info": {
      "name": "python"
    }
  },
  "cells": [
    {
      "cell_type": "code",
      "execution_count": null,
      "metadata": {
        "id": "h3wjdSOtw0Qv"
      },
      "outputs": [],
      "source": []
    },
    {
      "cell_type": "markdown",
      "source": [
        "##Theory Questions\n",
        "1 What is the difference between a function and a method in Python?\n",
        "_Function:\n",
        "\n",
        "A function is a block of code that is designed to perform a specific task.\n",
        "It can be defined anywhere in the code, and it is called independently (not bound to any object).\n",
        "A function is created using the def keyword.\n",
        "Method:\n",
        "\n",
        "A method is essentially a function that is bound to an object (usually an instance of a class).\n",
        "A method is defined inside a class and can be called on objects (instances) of that class.\n",
        "It always takes at least one argument: self, which refers to the instance of the class.\n",
        "\n",
        "2 . Explain the concept of function arguments and parameters in Python ?\n",
        "_ Function Arguments:\n",
        "An argument is the actual value or data that you pass into a function when you call it. These are the real values that correspond to the parameters in the function definition.\n",
        " Function Parameters:\n",
        "A parameter is a variable defined in the function signature (the function definition). It is a placeholder for the values that you will pass to the function when you call it. Parameters are part of the function definition and allow the function to accept input values.\n",
        "3 . What are the different ways to define and call a function in Python ?\n",
        "_ 1. Defining a Simple Function\n",
        "A simple function is defined using the def keyword, followed by the function name and parameters (if any).\n",
        "2. Function with No Parameters\n",
        "You can define a function that doesn't take any parameters.\n",
        "3. Function with Default Parameters\n",
        "A function can have default parameters. If no value is provided for the parameter, the default value is used.\n",
        "4. Function with Arbitrary Arguments (*args)\n",
        "You can define a function that accepts a variable number of positional arguments using *args.\n",
        "4  What is the purpose of the `return` statement in a Python function ?\n",
        "_The return statement in a Python function is used to send a result back to the caller of the function. It allows the function to produce a value (or multiple values) as output, which can then be used in other parts of the program.\n",
        "\n",
        "Here's a breakdown of the purpose of return:\n",
        "\n",
        "Exit the function: Once the return statement is executed, the function immediately stops running, and control is passed back to the point where the function was called.\n",
        "\n",
        "Send back a value: The value specified after return is returned to the caller. This could be any type of value, such as a number, string, list, or even None.\n",
        "\n",
        "Control function flow: Without return, a function will not send any value back to the caller. In this case, the function implicitly returns None.\n",
        "5  What are iterators in Python and how do they differ from iterables ?\n",
        "_In Python, both iterators and iterables are important concepts for working with loops and sequences, but they differ in their roles and behavior.\n",
        "\n",
        "1. Iterable\n",
        "An iterable is any object in Python that can be iterated over (looped through) using a for loop or in other contexts where iteration is needed. It’s an object that implements the __iter__() method, which returns an iterator.\n",
        "\n",
        "Examples of iterables:\n",
        "\n",
        "Lists\n",
        "Tuples\n",
        "Strings\n",
        "Dictionaries\n",
        "Sets\n",
        "Key Points about Iterables:\n",
        "\n",
        "They can be \"looped over.\"\n",
        "When you call iter() on an iterable, it returns an iterator.\n",
        "2. Iterator\n",
        "An iterator is an object that represents a stream of data. It is the object you actually loop over during iteration. An iterator knows how to traverse through a sequence, and it maintains its state as it progresses.\n",
        "\n",
        "To be considered an iterator, an object must implement two methods:\n",
        "\n",
        "__iter__() - This returns the iterator object itself. (An iterator is also an iterable.)\n",
        "__next__() - This returns the next item in the sequence, and raises the StopIteration exception when there are no more items to return.\n",
        "Key Points about Iterators:\n",
        "\n",
        "They keep track of their current state (i.e., where in the sequence they are).\n",
        "They do not need to be created from scratch; iterables are converted into iterators using the iter() function.\n",
        "Once exhausted, they cannot be reused without re-creating them.\n",
        "6  Explain the concept of generators in Python and how they are defined ?\n",
        "_ In Python, generators are a special type of iterator that allow you to iterate over a sequence of values lazily, meaning they produce values on the fly and don't require the entire sequence to be stored in memory at once. This makes them memory-efficient, especially when working with large datasets.\n",
        "\n",
        "Key Concepts of Generators:\n",
        "Lazy Evaluation: Generators produce values one at a time and only when they are needed. This avoids the need to store large amounts of data in memory.\n",
        "\n",
        "Stateful Iteration: Generators keep track of their state between iterations, so they can pause and resume their execution.\n",
        "\n",
        "yield Keyword: The most important feature of generators is the yield keyword. When a function contains a yield statement, it is automatically considered a generator. The yield statement returns a value and pauses the function's execution, allowing the function to be resumed later from the point it was paused.\n",
        "7  What are the advantages of using generators over regular functions ?\n",
        "_ Generators offer several advantages over regular functions, especially when dealing with large datasets or tasks that involve lazy evaluation. Here are some key benefits:\n",
        "\n",
        "1. Memory Efficiency\n",
        "Generators only compute and yield values one at a time, as needed. This allows you to work with large datasets or streams of data without loading everything into memory at once. This is ideal for processing large files, generating infinite sequences, or iterating over large collections where holding everything in memory would be inefficient or impractical.\n",
        "2. Lazy Evaluation\n",
        "Generators use lazy evaluation, meaning they don’t calculate values until they are requested. This allows for efficient processing, as the computation is done on-demand, avoiding unnecessary work.\n",
        "3. Improved Performance for Large Data Sets\n",
        "Since generators yield values one at a time rather than returning all the values at once (like regular functions), you can process large sequences of data without slowing down the system or causing memory issues.\n",
        "4. State Retention Between Calls\n",
        "Unlike regular functions, generators maintain their state between successive calls. This means the generator function can yield a series of values, pausing and resuming without losing its state. Regular functions, on the other hand, return a value and reset their state each time they're called.\n",
        "5. Simplified Code for Iterators\n",
        "If you need to implement an iterator, using a generator often results in much simpler code compared to writing a full iterator class using __iter__ and __next__. With generators, you can write an iterator in a more concise and readable way.\n",
        "6. Improved Readability\n",
        "Generators can make code more readable by removing the need for complex logic to handle state or manually managing a large collection of data. The flow of data is often clearer, especially when working with sequences.\n",
        "7. Pipelining and Composing Iterators\n",
        "Generators can be pipelined, allowing one generator to feed into another. This allows for chaining operations on sequences in a way that avoids holding entire datasets in memory at once. For example, you could chain multiple filters or transformations.\n",
        "8. Asynchronous Programming\n",
        "In combination with async/await (when using asynchronous generators), they are very useful for handling I/O-bound operations in an asynchronous context. This allows for efficient, non-blocking handling of tasks like network requests, file I/O, or any other long-running operations.\n",
        "8 Generators offer several advantages over regular functions, especially when dealing with large datasets or tasks that involve lazy evaluation. Here are some key benefits:\n",
        "\n",
        "1. Memory Efficiency\n",
        "Generators only compute and yield values one at a time, as needed. This allows you to work with large datasets or streams of data without loading everything into memory at once. This is ideal for processing large files, generating infinite sequences, or iterating over large collections where holding everything in memory would be inefficient or impractical.\n",
        "2. Lazy Evaluation\n",
        "Generators use lazy evaluation, meaning they don’t calculate values until they are requested. This allows for efficient processing, as the computation is done on-demand, avoiding unnecessary work.\n",
        "3. Improved Performance for Large Data Sets\n",
        "Since generators yield values one at a time rather than returning all the values at once (like regular functions), you can process large sequences of data without slowing down the system or causing memory issues.\n",
        "4. State Retention Between Calls\n",
        "Unlike regular functions, generators maintain their state between successive calls. This means the generator function can yield a series of values, pausing and resuming without losing its state. Regular functions, on the other hand, return a value and reset their state each time they're called.\n",
        "5. Simplified Code for Iterators\n",
        "If you need to implement an iterator, using a generator often results in much simpler code compared to writing a full iterator class using __iter__ and __next__. With generators, you can write an iterator in a more concise and readable way.\n",
        "6. Improved Readability\n",
        "Generators can make code more readable by removing the need for complex logic to handle state or manually managing a large collection of data. The flow of data is often clearer, especially when working with sequences.\n",
        "7. Pipelining and Composing Iterators\n",
        "Generators can be pipelined, allowing one generator to feed into another. This allows for chaining operations on sequences in a way that avoids holding entire datasets in memory at once. For example, you could chain multiple filters or transformations.\n",
        "\n",
        "8  What is a lambda function in Python and when is it typically used ?\n",
        "_ A lambda function in Python is a small, anonymous function defined using the lambda keyword. It is essentially a shorthand way of writing functions that are simple and typically only used once in a particular place.\n",
        "Short-term use: They are ideal when you need a function temporarily, especially when you don’t want to define a full function using def.\n",
        "\n",
        "Higher-order functions: They are commonly used in conjunction with functions like map(), filter(), and reduce() to perform operations on iterables:\n",
        "\n",
        "map(): Applies a function to all items in an iterable.\n",
        "filter(): Filters items in an iterable based on a condition.\n",
        "\n",
        "9  Explain the purpose and usage of the `map()` function in Python ?\n",
        "_ The map() function in Python is used to apply a given function to each item of an iterable (such as a list, tuple, etc.) and return an iterator (or map object) that produces the results. It is useful when you need to apply the same operation to every item in an iterable, without writing a loop.\n",
        "The map() function applies the given function to each item in the iterable.\n",
        "It returns an iterator, which can be converted to other iterables like a list or a tuple if you want to view the results.\n",
        "10  What is the difference between `map()`, `reduce()`, and `filter()` functions in Python?\n",
        "_ 1. map():\n",
        "Purpose: It applies a given function to each item in an iterable (e.g., list, tuple) and returns an iterable (map object) with the results.\n",
        "\n",
        "Syntax: map(function, iterable)\n",
        "2. reduce():\n",
        "Purpose: It applies a binary function (a function that takes two arguments) cumulatively to the items in an iterable, from left to right, reducing the iterable to a single value. It's part of the functools module.\n",
        "\n",
        "Syntax: reduce(function, iterable[, initializer])\n",
        "3. filter():\n",
        "Purpose: It filters the items of an iterable by applying a given function that returns True or False. The items that return True are kept.\n",
        "\n",
        "Syntax: filter(function, iterable)\n",
        "## Practical Questions:\n",
        "1 Write a Python function that takes a list of numbers as input and returns the sum of all even numbers in\n",
        "the list ?\n"
      ],
      "metadata": {
        "id": "1hgPUeDgxZBo"
      }
    },
    {
      "cell_type": "code",
      "source": [
        "def sum_of_even_numbers(numbers):\n",
        "    # Initialize the sum to 0\n",
        "    even_sum = 0\n",
        "\n",
        "    # Loop through the list of numbers\n",
        "    for num in numbers:\n",
        "        # Check if the number is even\n",
        "        if num % 2 == 0:\n",
        "            even_sum += num\n",
        "\n",
        "    # Return the sum of even numbers\n",
        "    return even_sum\n"
      ],
      "metadata": {
        "id": "ZrH7U-lg3LXI"
      },
      "execution_count": 1,
      "outputs": []
    },
    {
      "cell_type": "markdown",
      "source": [
        "2  Create a Python function that accepts a string and returns the reverse of that string ?"
      ],
      "metadata": {
        "id": "ipHsIMOA3WNf"
      }
    },
    {
      "cell_type": "code",
      "source": [
        "def reverse_string(input_string):\n",
        "    return input_string[::-1]\n"
      ],
      "metadata": {
        "id": "Ra5UyVfZ3lcV"
      },
      "execution_count": 2,
      "outputs": []
    },
    {
      "cell_type": "markdown",
      "source": [
        "3 . Implement a Python function that takes a list of integers and returns a new list containing the squares of\n",
        "each number. ?"
      ],
      "metadata": {
        "id": "adBWaHcU3sKW"
      }
    },
    {
      "cell_type": "code",
      "source": [
        "def square_numbers(nums):\n",
        "    return [num ** 2 for num in nums]\n",
        "\n",
        "# Example usage:\n",
        "numbers = [1, 2, 3, 4, 5]\n",
        "squared_numbers = square_numbers(numbers)\n",
        "print(squared_numbers)\n"
      ],
      "metadata": {
        "colab": {
          "base_uri": "https://localhost:8080/"
        },
        "id": "MRoPIzdg3ySL",
        "outputId": "41f0716e-c1e3-41dd-d412-fca04cea9e74"
      },
      "execution_count": 3,
      "outputs": [
        {
          "output_type": "stream",
          "name": "stdout",
          "text": [
            "[1, 4, 9, 16, 25]\n"
          ]
        }
      ]
    },
    {
      "cell_type": "markdown",
      "source": [
        "4  Write a Python function that checks if a given number is prime or not from 1 to 200 ?"
      ],
      "metadata": {
        "id": "XVs3mWdk4Jy9"
      }
    },
    {
      "cell_type": "code",
      "source": [
        "def is_prime(n):\n",
        "    # Check if n is less than 2\n",
        "    if n <= 1:\n",
        "        return False\n",
        "\n",
        "    # Check for factors from 2 to sqrt(n)\n",
        "    for i in range(2, int(n**0.5) + 1):\n",
        "        if n % i == 0:\n",
        "            return False\n",
        "    return True\n",
        "\n",
        "# Test the function for numbers between 1 and 200\n",
        "for num in range(1, 201):\n",
        "    if is_prime(num):\n",
        "        print(num)\n"
      ],
      "metadata": {
        "colab": {
          "base_uri": "https://localhost:8080/"
        },
        "id": "La-38b984UWj",
        "outputId": "9ac7ca88-92dc-45ee-ee04-3759261a2f04"
      },
      "execution_count": 4,
      "outputs": [
        {
          "output_type": "stream",
          "name": "stdout",
          "text": [
            "2\n",
            "3\n",
            "5\n",
            "7\n",
            "11\n",
            "13\n",
            "17\n",
            "19\n",
            "23\n",
            "29\n",
            "31\n",
            "37\n",
            "41\n",
            "43\n",
            "47\n",
            "53\n",
            "59\n",
            "61\n",
            "67\n",
            "71\n",
            "73\n",
            "79\n",
            "83\n",
            "89\n",
            "97\n",
            "101\n",
            "103\n",
            "107\n",
            "109\n",
            "113\n",
            "127\n",
            "131\n",
            "137\n",
            "139\n",
            "149\n",
            "151\n",
            "157\n",
            "163\n",
            "167\n",
            "173\n",
            "179\n",
            "181\n",
            "191\n",
            "193\n",
            "197\n",
            "199\n"
          ]
        }
      ]
    },
    {
      "cell_type": "markdown",
      "source": [],
      "metadata": {
        "id": "xZ7WiH7G4bQG"
      }
    },
    {
      "cell_type": "markdown",
      "source": [
        "5 . Create an iterator class in Python that generates the Fibonacci sequence up to a specified number of\n",
        "terms. ?"
      ],
      "metadata": {
        "id": "rjmeRHVR4mFq"
      }
    },
    {
      "cell_type": "code",
      "source": [
        "class FibonacciIterator:\n",
        "    def __init__(self, n):\n",
        "        self.n = n  # Number of terms\n",
        "        self.a, self.b = 0, 1  # Starting values of the Fibonacci sequence\n",
        "        self.count = 0  # Counter to keep track of the number of terms generated\n",
        "\n",
        "    def __iter__(self):\n",
        "        return self  # The iterator object itself\n",
        "\n",
        "    def __next__(self):\n",
        "        if self.count >= self.n:\n",
        "            raise StopIteration  # Stop iteration when the specified number of terms is reached\n",
        "\n"
      ],
      "metadata": {
        "id": "oKkg7lpl4omu"
      },
      "execution_count": 5,
      "outputs": []
    },
    {
      "cell_type": "markdown",
      "source": [
        "6 Write a generator function in Python that yields the powers of 2 up to a given exponent ?"
      ],
      "metadata": {
        "id": "c8PpP9pN4uCX"
      }
    },
    {
      "cell_type": "code",
      "source": [
        "def powers_of_2(exponent):\n",
        "    for i in range(exponent + 1):\n",
        "        yield 2 ** i\n"
      ],
      "metadata": {
        "id": "4vGoM7Er4zAc"
      },
      "execution_count": 6,
      "outputs": []
    },
    {
      "cell_type": "markdown",
      "source": [
        "7  Implement a generator function that reads a file line by line and yields each line as a string. ?"
      ],
      "metadata": {
        "id": "6bdGYB1B48yG"
      }
    },
    {
      "cell_type": "code",
      "source": [
        "def read_file_line_by_line(filename):\n",
        "    with open(filename, 'r') as file:\n",
        "        for line in file:\n",
        "            yield line.strip()  # Using strip() to remove any extra newline characters\n"
      ],
      "metadata": {
        "id": "42h37L0w5Lwj"
      },
      "execution_count": 7,
      "outputs": []
    },
    {
      "cell_type": "markdown",
      "source": [
        "8  Use a lambda function in Python to sort a list of tuples based on the second element of each tuple.?"
      ],
      "metadata": {
        "id": "yl6XKWXM5OGU"
      }
    },
    {
      "cell_type": "code",
      "source": [
        "# List of tuples\n",
        "my_list = [(1, 3), (2, 1), (4, 2), (3, 4)]\n",
        "\n",
        "# Sorting using lambda function based on the second element of each tuple\n",
        "sorted_list = sorted(my_list, key=lambda x: x[1])\n",
        "\n",
        "print(sorted_list)\n"
      ],
      "metadata": {
        "colab": {
          "base_uri": "https://localhost:8080/"
        },
        "id": "iGN3P3dZ5TCQ",
        "outputId": "ed4eccab-3fd4-40ee-cedf-706298122b28"
      },
      "execution_count": 8,
      "outputs": [
        {
          "output_type": "stream",
          "name": "stdout",
          "text": [
            "[(2, 1), (4, 2), (1, 3), (3, 4)]\n"
          ]
        }
      ]
    },
    {
      "cell_type": "markdown",
      "source": [
        "9 Write a Python program that uses `map()` to convert a list of temperatures from Celsius to Fahrenheit ?"
      ],
      "metadata": {
        "id": "TqiFCAw95XyP"
      }
    },
    {
      "cell_type": "code",
      "source": [
        "# List of temperatures in Celsius\n",
        "celsius_temps = [0, 20, 30, 40, 100]\n",
        "\n",
        "# Function to convert Celsius to Fahrenheit\n",
        "def celsius_to_fahrenheit(celsius):\n",
        "    return (celsius * 9/5) + 32\n",
        "\n",
        "# Use map() to apply the conversion function to each temperature in the list\n",
        "fahrenheit_temps = list(map(celsius_to_fahrenheit, celsius_temps))\n",
        "\n",
        "# Print the resulting list of Fahrenheit temperatures\n",
        "print(fahrenheit_temps)\n"
      ],
      "metadata": {
        "colab": {
          "base_uri": "https://localhost:8080/"
        },
        "id": "OYTHaZ0f5eM7",
        "outputId": "146690ec-477e-4d33-b9f3-01437953ac1a"
      },
      "execution_count": 9,
      "outputs": [
        {
          "output_type": "stream",
          "name": "stdout",
          "text": [
            "[32.0, 68.0, 86.0, 104.0, 212.0]\n"
          ]
        }
      ]
    },
    {
      "cell_type": "markdown",
      "source": [
        "10 . Create a Python program that uses `filter()` to remove all the vowels from a given string ?"
      ],
      "metadata": {
        "id": "Np-JpHYF5kXF"
      }
    },
    {
      "cell_type": "code",
      "source": [
        "def remove_vowels(input_string):\n",
        "    vowels = \"aeiouAEIOU\"\n",
        "\n",
        "    # Use filter() to filter out vowels\n",
        "    result = ''.join(filter(lambda char: char not in vowels, input_string))\n",
        "\n",
        "    return result\n",
        "\n",
        "# Example usage\n",
        "input_string = \"Hello, World!\"\n",
        "output_string = remove_vowels(input_string)\n",
        "print(\"Original String:\", input_string)\n",
        "print(\"String after removing vowels:\", output_string)\n"
      ],
      "metadata": {
        "colab": {
          "base_uri": "https://localhost:8080/"
        },
        "id": "FZcdSJVX5pid",
        "outputId": "cec1f7e5-1ebf-42a5-e9f5-f7c726d93c2c"
      },
      "execution_count": 10,
      "outputs": [
        {
          "output_type": "stream",
          "name": "stdout",
          "text": [
            "Original String: Hello, World!\n",
            "String after removing vowels: Hll, Wrld!\n"
          ]
        }
      ]
    }
  ]
}